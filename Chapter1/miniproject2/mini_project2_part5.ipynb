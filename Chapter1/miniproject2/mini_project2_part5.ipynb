{
  "nbformat": 4,
  "nbformat_minor": 0,
  "metadata": {
    "colab": {
      "provenance": [],
      "authorship_tag": "ABX9TyOETQWRJ6TYJyOM1QGYgRVC",
      "include_colab_link": true
    },
    "kernelspec": {
      "name": "python3",
      "display_name": "Python 3"
    },
    "language_info": {
      "name": "python"
    }
  },
  "cells": [
    {
      "cell_type": "markdown",
      "metadata": {
        "id": "view-in-github",
        "colab_type": "text"
      },
      "source": [
        "<a href=\"https://colab.research.google.com/github/farimairanbakhsh/MachineLearning2023/blob/main/Chapter1/miniproject2/mini_project2_part5.ipynb\" target=\"_parent\"><img src=\"https://colab.research.google.com/assets/colab-badge.svg\" alt=\"Open In Colab\"/></a>"
      ]
    },
    {
      "cell_type": "code",
      "source": [
        "import pandas as pd\n",
        "from sklearn.datasets import load_iris\n",
        "from sklearn.model_selection import train_test_split\n",
        "from sklearn.neural_network import MLPClassifier, MLPRegressor"
      ],
      "metadata": {
        "id": "ROMpXtzFb7JM"
      },
      "execution_count": null,
      "outputs": []
    },
    {
      "cell_type": "code",
      "source": [
        "# Load Iris dataset from scikit-learn\n",
        "iris_sklearn = load_iris()\n",
        "\n",
        "# Create a DataFrame from the iris dataset\n",
        "iris = pd.DataFrame(data=iris_sklearn.data, columns=iris_sklearn.feature_names)\n",
        "\n",
        "# Add target (species) column to DataFrame\n",
        "iris['species'] = iris_sklearn.target_names[iris_sklearn.target]\n",
        "\n",
        "# Display the count of each species before encoding\n",
        "print(iris['species'].value_counts())\n",
        "\n",
        "# Convert categorical columns to numerical using one-hot encoding\n",
        "df = pd.get_dummies(iris, columns=['species'])\n",
        "\n",
        "# Display the first few rows of the modified DataFrame\n",
        "print(df.head())"
      ],
      "metadata": {
        "colab": {
          "base_uri": "https://localhost:8080/"
        },
        "id": "pX5aG7MuyTid",
        "outputId": "10632808-71d9-418e-ae18-bbf59a3a006b"
      },
      "execution_count": null,
      "outputs": [
        {
          "output_type": "stream",
          "name": "stdout",
          "text": [
            "setosa        50\n",
            "versicolor    50\n",
            "virginica     50\n",
            "Name: species, dtype: int64\n",
            "   sepal length (cm)  sepal width (cm)  petal length (cm)  petal width (cm)  \\\n",
            "0                5.1               3.5                1.4               0.2   \n",
            "1                4.9               3.0                1.4               0.2   \n",
            "2                4.7               3.2                1.3               0.2   \n",
            "3                4.6               3.1                1.5               0.2   \n",
            "4                5.0               3.6                1.4               0.2   \n",
            "\n",
            "   species_setosa  species_versicolor  species_virginica  \n",
            "0               1                   0                  0  \n",
            "1               1                   0                  0  \n",
            "2               1                   0                  0  \n",
            "3               1                   0                  0  \n",
            "4               1                   0                  0  \n"
          ]
        }
      ]
    },
    {
      "cell_type": "code",
      "source": [
        "X = df.iloc[:,0:4]\n",
        "y = df.iloc[:,4:]"
      ],
      "metadata": {
        "id": "W99ERFEYytXY"
      },
      "execution_count": null,
      "outputs": []
    },
    {
      "cell_type": "code",
      "source": [
        "x_train, x_test, y_train, y_test = train_test_split(X, y, test_size=0.2)"
      ],
      "metadata": {
        "id": "s2pFNh_9ythg"
      },
      "execution_count": null,
      "outputs": []
    },
    {
      "cell_type": "code",
      "source": [
        "# Load Iris dataset from scikit-learn\n",
        "iris_sklearn = load_iris()\n",
        "X = iris_sklearn.data\n",
        "y = iris_sklearn.target\n",
        "\n",
        "# Splitting the data into training and testing sets\n",
        "x_train, x_test, y_train, y_test = train_test_split(X, y, test_size=0.2, random_state=83)"
      ],
      "metadata": {
        "id": "Z13RltNr0JKz"
      },
      "execution_count": null,
      "outputs": []
    },
    {
      "cell_type": "code",
      "source": [
        "model = MLPClassifier(hidden_layer_sizes=(100), activation='relu', solver='adam',\n",
        "                      alpha=0.0001, batch_size='auto', learning_rate='constant', learning_rate_init=0.001,\n",
        "                      power_t=0.5, max_iter=200, shuffle=True, random_state=83, tol=0.0001, verbose=False,\n",
        "                      warm_start=False, momentum=0.9, nesterovs_momentum=True, early_stopping=False, validation_fraction=0.1,\n",
        "                      beta_1=0.9, beta_2=0.999, epsilon=1e-08, n_iter_no_change=10, max_fun=15000)"
      ],
      "metadata": {
        "id": "HZTnPALoytor"
      },
      "execution_count": null,
      "outputs": []
    },
    {
      "cell_type": "code",
      "source": [
        "model.fit(x_train, y_train)\n",
        "model.score(x_test, y_test)"
      ],
      "metadata": {
        "colab": {
          "base_uri": "https://localhost:8080/"
        },
        "id": "ZyVQV4UG4L2m",
        "outputId": "f2a07dae-b120-4fdc-af50-8086db8d51a9"
      },
      "execution_count": null,
      "outputs": [
        {
          "output_type": "stream",
          "name": "stderr",
          "text": [
            "/usr/local/lib/python3.10/dist-packages/sklearn/neural_network/_multilayer_perceptron.py:686: ConvergenceWarning: Stochastic Optimizer: Maximum iterations (200) reached and the optimization hasn't converged yet.\n",
            "  warnings.warn(\n"
          ]
        },
        {
          "output_type": "execute_result",
          "data": {
            "text/plain": [
              "1.0"
            ]
          },
          "metadata": {},
          "execution_count": 14
        }
      ]
    },
    {
      "cell_type": "code",
      "source": [
        "from sklearn.neural_network import MLPClassifier\n",
        "from sklearn.metrics import confusion_matrix, classification_report\n",
        "import seaborn as sns\n",
        "import matplotlib.pyplot as plt\n",
        "import numpy as np\n",
        "\n",
        "# Making predictions on the test set\n",
        "y_pred = model.predict(x_test)\n",
        "\n",
        "# Calculating confusion matrix\n",
        "cf_matrix = confusion_matrix(y_test, y_pred)\n",
        "\n",
        "# Plotting confusion matrix as a heatmap with fitted text\n",
        "plt.figure(figsize=(8, 6))\n",
        "sns.heatmap(cf_matrix, annot=True, fmt='d', cmap='Blues', annot_kws={\"size\": 12})\n",
        "\n",
        "# Get the axis to modify layout\n",
        "plt.gca().set_ylim(len(np.unique(y_test)), 0)  # Fix for matplotlib 3.1.1 and 3.1.2\n",
        "plt.title('Confusion Matrix')\n",
        "plt.xlabel('Predicted labels')\n",
        "plt.ylabel('True labels')\n",
        "\n",
        "# Save the plot as PNG\n",
        "plt.tight_layout()\n",
        "plt.savefig('confusion_matrix.png', dpi=300)\n",
        "plt.show()\n",
        "\n",
        "# Printing classification report\n",
        "print(\"Classification Report:\")\n",
        "print(classification_report(y_test, y_pred))\n"
      ],
      "metadata": {
        "colab": {
          "base_uri": "https://localhost:8080/",
          "height": 798
        },
        "id": "Pr9Mtpdc4MJk",
        "outputId": "b076334a-6b70-48a0-b6cc-d3908559436b"
      },
      "execution_count": null,
      "outputs": [
        {
          "output_type": "display_data",
          "data": {
            "text/plain": [
              "<Figure size 800x600 with 2 Axes>"
            ],
            "image/png": "[encoded data removed]"
          },
          "metadata": {}
        },
        {
          "output_type": "stream",
          "name": "stdout",
          "text": [
            "Classification Report:\n",
            "              precision    recall  f1-score   support\n",
            "\n",
            "           0       1.00      1.00      1.00        11\n",
            "           1       1.00      1.00      1.00         8\n",
            "           2       1.00      1.00      1.00        11\n",
            "\n",
            "    accuracy                           1.00        30\n",
            "   macro avg       1.00      1.00      1.00        30\n",
            "weighted avg       1.00      1.00      1.00        30\n",
            "\n"
          ]
        }
      ]
    },
    {
      "cell_type": "code",
      "source": [
        "from sklearn.linear_model import LogisticRegression\n",
        "from sklearn.metrics import confusion_matrix, classification_report\n",
        "import seaborn as sns\n",
        "import matplotlib.pyplot as plt\n",
        "import numpy as np\n",
        "from sklearn.datasets import load_iris\n",
        "from sklearn.model_selection import train_test_split\n",
        "\n",
        "\n",
        "# Assuming you've trained your model already\n",
        "model = LogisticRegression(max_iter=200, random_state=83)\n",
        "model.fit(x_train, y_train)\n",
        "\n",
        "# Making predictions on the test set\n",
        "y_pred = model.predict(x_test)\n",
        "\n",
        "# Calculating confusion matrix\n",
        "cf_matrix = confusion_matrix(y_test, y_pred)\n",
        "\n",
        "# Plotting confusion matrix as a heatmap with fitted text\n",
        "plt.figure(figsize=(8, 6))\n",
        "sns.heatmap(cf_matrix, annot=True, fmt='d', cmap='Blues', annot_kws={\"size\": 12})\n",
        "\n",
        "# Get the axis to modify layout\n",
        "plt.gca().set_ylim(len(np.unique(y_test)), 0)  # Fix for matplotlib 3.1.1 and 3.1.2\n",
        "plt.title('Confusion Matrix')\n",
        "plt.xlabel('Predicted labels')\n",
        "plt.ylabel('True labels')\n",
        "\n",
        "# Save the plot as PNG\n",
        "plt.tight_layout()\n",
        "plt.savefig('confusion_matrix.png', dpi=300)\n",
        "plt.show()\n",
        "\n",
        "# Printing classification report\n",
        "print(\"Classification Report:\")\n",
        "print(classification_report(y_test, y_pred))\n"
      ],
      "metadata": {
        "colab": {
          "base_uri": "https://localhost:8080/",
          "height": 798
        },
        "id": "0HrJUt6w4a2h",
        "outputId": "af50f7b6-349e-497b-9fa3-2261e5635c4c"
      },
      "execution_count": null,
      "outputs": [
        {
          "output_type": "display_data",
          "data": {
            "text/plain": [
              "<Figure size 800x600 with 2 Axes>"
            ],
            "image/png": "[encoded data removed]"
          },
          "metadata": {}
        },
        {
          "output_type": "stream",
          "name": "stdout",
          "text": [
            "Classification Report:\n",
            "              precision    recall  f1-score   support\n",
            "\n",
            "           0       1.00      1.00      1.00        11\n",
            "           1       0.73      1.00      0.84         8\n",
            "           2       1.00      0.73      0.84        11\n",
            "\n",
            "    accuracy                           0.90        30\n",
            "   macro avg       0.91      0.91      0.89        30\n",
            "weighted avg       0.93      0.90      0.90        30\n",
            "\n"
          ]
        }
      ]
    },
    {
      "cell_type": "code",
      "source": [
        "from sklearn.svm import SVC\n",
        "from sklearn.metrics import confusion_matrix, classification_report\n",
        "import seaborn as sns\n",
        "import matplotlib.pyplot as plt\n",
        "import numpy as np\n",
        "from sklearn.linear_model import LogisticRegression\n",
        "from sklearn.datasets import load_iris\n",
        "from sklearn.model_selection import train_test_split\n",
        "\n",
        "\n",
        "# Assuming you've trained your model already\n",
        "model = SVC(kernel='rbf', random_state=83)\n",
        "model.fit(x_train, y_train)\n",
        "\n",
        "# Making predictions on the test set\n",
        "y_pred = model.predict(x_test)\n",
        "\n",
        "# Calculating confusion matrix\n",
        "cf_matrix = confusion_matrix(y_test, y_pred)\n",
        "\n",
        "# Plotting confusion matrix as a heatmap with fitted text\n",
        "plt.figure(figsize=(8, 6))\n",
        "sns.heatmap(cf_matrix, annot=True, fmt='d', cmap='Blues', annot_kws={\"size\": 12})\n",
        "\n",
        "# Get the axis to modify layout\n",
        "plt.gca().set_ylim(len(np.unique(y_test)), 0)  # Fix for matplotlib 3.1.1 and 3.1.2\n",
        "plt.title('Confusion Matrix')\n",
        "plt.xlabel('Predicted labels')\n",
        "plt.ylabel('True labels')\n",
        "\n",
        "# Save the plot as PNG\n",
        "plt.tight_layout()\n",
        "plt.savefig('confusion_matrix.png', dpi=300)\n",
        "plt.show()\n",
        "\n",
        "# Printing classification report\n",
        "print(\"Classification Report:\")\n",
        "print(classification_report(y_test, y_pred))\n"
      ],
      "metadata": {
        "colab": {
          "base_uri": "https://localhost:8080/",
          "height": 798
        },
        "id": "0z-tSXLo4a6P",
        "outputId": "2873458c-7dbe-4cde-bfaa-d08e773d54b2"
      },
      "execution_count": null,
      "outputs": [
        {
          "output_type": "display_data",
          "data": {
            "text/plain": [
              "<Figure size 800x600 with 2 Axes>"
            ],
            "image/png": "[encoded data removed]"
          },
          "metadata": {}
        },
        {
          "output_type": "stream",
          "name": "stdout",
          "text": [
            "Classification Report:\n",
            "              precision    recall  f1-score   support\n",
            "\n",
            "           0       1.00      1.00      1.00        11\n",
            "           1       0.73      1.00      0.84         8\n",
            "           2       1.00      0.73      0.84        11\n",
            "\n",
            "    accuracy                           0.90        30\n",
            "   macro avg       0.91      0.91      0.89        30\n",
            "weighted avg       0.93      0.90      0.90        30\n",
            "\n"
          ]
        }
      ]
    },
    {
      "cell_type": "code",
      "source": [
        "import numpy as np\n",
        "\n",
        "class MLPClassifier:\n",
        "    def __init__(self, input_size, hidden_size, output_size, learning_rate=0.1, num_epochs=1000):\n",
        "        self.input_size = input_size\n",
        "        self.hidden_size = hidden_size\n",
        "        self.output_size = output_size\n",
        "        self.learning_rate = learning_rate\n",
        "        self.num_epochs = num_epochs\n",
        "\n",
        "        # Initialize weights and biases for the hidden and output layers\n",
        "        self.weights_input_hidden = np.random.randn(self.input_size, self.hidden_size)\n",
        "        self.bias_hidden = np.zeros((1, self.hidden_size))\n",
        "        self.weights_hidden_output = np.random.randn(self.hidden_size, self.output_size)\n",
        "        self.bias_output = np.zeros((1, self.output_size))\n",
        "\n",
        "    def sigmoid(self, x):\n",
        "        return 1 / (1 + np.exp(-x))\n",
        "\n",
        "    def softmax(self, x):\n",
        "        exp_values = np.exp(x - np.max(x, axis=1, keepdims=True))\n",
        "        return exp_values / np.sum(exp_values, axis=1, keepdims=True)\n",
        "\n",
        "    def forward_pass(self, X):\n",
        "        # Forward pass through the network\n",
        "        self.hidden_layer_input = np.dot(X, self.weights_input_hidden) + self.bias_hidden\n",
        "        self.hidden_layer_output = self.sigmoid(self.hidden_layer_input)\n",
        "        self.output_layer_input = np.dot(self.hidden_layer_output, self.weights_hidden_output) + self.bias_output\n",
        "        self.predicted_probabilities = self.softmax(self.output_layer_input)\n",
        "        return self.predicted_probabilities\n",
        "\n",
        "    def backward_pass(self, X, y):\n",
        "        # Backpropagation\n",
        "        batch_size = len(X)\n",
        "\n",
        "        # Calculate gradients\n",
        "        output_error = self.predicted_probabilities - y\n",
        "        hidden_error = np.dot(output_error, self.weights_hidden_output.T) * (self.hidden_layer_output * (1 - self.hidden_layer_output))\n",
        "\n",
        "        weights_hidden_output_gradients = np.dot(self.hidden_layer_output.T, output_error)\n",
        "        bias_output_gradients = np.sum(output_error, axis=0, keepdims=True)\n",
        "        weights_input_hidden_gradients = np.dot(X.T, hidden_error)\n",
        "        bias_hidden_gradients = np.sum(hidden_error, axis=0)\n",
        "\n",
        "        # Update weights and biases\n",
        "        self.weights_hidden_output -= self.learning_rate * weights_hidden_output_gradients / batch_size\n",
        "        self.bias_output -= self.learning_rate * bias_output_gradients / batch_size\n",
        "        self.weights_input_hidden -= self.learning_rate * weights_input_hidden_gradients / batch_size\n",
        "        self.bias_hidden -= self.learning_rate * bias_hidden_gradients / batch_size\n",
        "\n",
        "    def fit(self, X, y):\n",
        "        # One-hot encode the target labels\n",
        "        y_onehot = np.eye(self.output_size)[y]\n",
        "\n",
        "        # Training the network\n",
        "        for epoch in range(self.num_epochs):\n",
        "            # Forward pass\n",
        "            predicted_probabilities = self.forward_pass(X)\n",
        "\n",
        "            # Backward pass\n",
        "            self.backward_pass(X, y_onehot)\n",
        "\n",
        "    def predict(self, X):\n",
        "        # Perform predictions\n",
        "        predicted_probabilities = self.forward_pass(X)\n",
        "        return np.argmax(predicted_probabilities, axis=1)\n"
      ],
      "metadata": {
        "id": "t_j3SKOE9nIS"
      },
      "execution_count": null,
      "outputs": []
    },
    {
      "cell_type": "code",
      "source": [
        "mlp = MLPClassifier(input_size=X.shape[1], hidden_size=64, output_size=3, learning_rate=0.01, num_epochs=1000)\n",
        "\n",
        "mlp.fit(x_train, y_train)\n",
        "\n",
        "predictions = mlp.predict(x_test)\n",
        "\n",
        "accuracy = accuracy_score(y_test, predictions)\n",
        "print(\"Accuracy:\", accuracy)\n",
        "print(classification_report(y_test, predictions))\n",
        "\n",
        "cf_matrix = confusion_matrix(y_test, predictions)\n",
        "\n",
        "plt.figure(figsize=(8, 6))\n",
        "sns.heatmap(cf_matrix, annot=True, fmt='d', cmap='Blues', annot_kws={\"size\": 12})\n",
        "\n",
        "plt.gca().set_ylim(len(np.unique(y_test)), 0)\n",
        "plt.title('Confusion Matrix')\n",
        "plt.xlabel('Predicted labels')\n",
        "plt.ylabel('True labels')\n",
        "\n",
        "plt.tight_layout()\n",
        "plt.savefig('confusion_matrix.png', dpi=300)\n",
        "plt.show()"
      ],
      "metadata": {
        "colab": {
          "base_uri": "https://localhost:8080/",
          "height": 798
        },
        "id": "azWpLxHb-Qm8",
        "outputId": "a91f1e80-4938-429e-bb49-ab4ccd31e8a8"
      },
      "execution_count": null,
      "outputs": [
        {
          "output_type": "stream",
          "name": "stdout",
          "text": [
            "Accuracy: 1.0\n",
            "              precision    recall  f1-score   support\n",
            "\n",
            "           0       1.00      1.00      1.00        11\n",
            "           1       1.00      1.00      1.00         8\n",
            "           2       1.00      1.00      1.00        11\n",
            "\n",
            "    accuracy                           1.00        30\n",
            "   macro avg       1.00      1.00      1.00        30\n",
            "weighted avg       1.00      1.00      1.00        30\n",
            "\n"
          ]
        },
        {
          "output_type": "display_data",
          "data": {
            "text/plain": [
              "<Figure size 800x600 with 2 Axes>"
            ],
            "image/png": "[encoded data removed]"
          },
          "metadata": {}
        }
      ]
    },
    {
      "cell_type": "code",
      "source": [
        "import numpy as np\n",
        "\n",
        "class LogisticRegression:\n",
        "    def __init__(self, learning_rate=0.01, num_iterations=1000):\n",
        "        self.learning_rate = learning_rate\n",
        "        self.num_iterations = num_iterations\n",
        "        self.weights = None\n",
        "        self.bias = None\n",
        "\n",
        "    def sigmoid(self, z):\n",
        "        return 1 / (1 + np.exp(-z))\n",
        "\n",
        "    def fit(self, X, y):\n",
        "        num_samples, num_features = X.shape\n",
        "        self.weights = np.zeros(num_features)\n",
        "        self.bias = 0\n",
        "\n",
        "        # Gradient Descent\n",
        "        for _ in range(self.num_iterations):\n",
        "            linear_model = np.dot(X, self.weights) + self.bias\n",
        "            y_predicted = self.sigmoid(linear_model)\n",
        "\n",
        "            # Gradient calculation\n",
        "            dw = (1 / num_samples) * np.dot(X.T, (y_predicted - y))\n",
        "            db = (1 / num_samples) * np.sum(y_predicted - y)\n",
        "\n",
        "            # Update weights and bias\n",
        "            self.weights -= self.learning_rate * dw\n",
        "            self.bias -= self.learning_rate * db\n",
        "\n",
        "    def predict(self, X):\n",
        "        linear_model = np.dot(X, self.weights) + self.bias\n",
        "        y_predicted = self.sigmoid(linear_model)\n",
        "        y_predicted_cls = [1 if i > 0.5 else 0 for i in y_predicted]\n",
        "        return y_predicted_cls\n"
      ],
      "metadata": {
        "id": "EwlwevXG9CiM"
      },
      "execution_count": null,
      "outputs": []
    },
    {
      "cell_type": "code",
      "source": [
        "model = LogisticRegression(learning_rate=0.1, num_iterations=1000)\n",
        "model.fit(x_train, y_train)\n",
        "\n",
        "predictions = model.predict(x_test)\n",
        "\n",
        "from sklearn.metrics import accuracy_score, classification_report\n",
        "\n",
        "print(\"Accuracy:\", accuracy_score(y_test, predictions))\n",
        "print(\"Classification Report:\\n\", classification_report(y_test, predictions))\n",
        "\n",
        "cf_matrix = confusion_matrix(y_test, predictions)\n",
        "\n",
        "plt.figure(figsize=(8, 6))\n",
        "sns.heatmap(cf_matrix, annot=True, fmt='d', cmap='Blues', annot_kws={\"size\": 12})\n",
        "\n",
        "plt.gca().set_ylim(len(np.unique(y_test)), 0)\n",
        "plt.title('Confusion Matrix')\n",
        "plt.xlabel('Predicted labels')\n",
        "plt.ylabel('True labels')\n",
        "\n",
        "plt.tight_layout()\n",
        "plt.savefig('confusion_matrix.png', dpi=300)\n",
        "plt.show()"
      ],
      "metadata": {
        "colab": {
          "base_uri": "https://localhost:8080/",
          "height": 939
        },
        "id": "mkUVUOLe9CmG",
        "outputId": "12dfef3b-db29-474b-dcbd-0e4fee0a3ca1"
      },
      "execution_count": null,
      "outputs": [
        {
          "output_type": "stream",
          "name": "stdout",
          "text": [
            "Accuracy: 0.26666666666666666\n",
            "Classification Report:\n",
            "               precision    recall  f1-score   support\n",
            "\n",
            "           0       0.00      0.00      0.00        11\n",
            "           1       0.27      1.00      0.42         8\n",
            "           2       0.00      0.00      0.00        11\n",
            "\n",
            "    accuracy                           0.27        30\n",
            "   macro avg       0.09      0.33      0.14        30\n",
            "weighted avg       0.07      0.27      0.11        30\n",
            "\n"
          ]
        },
        {
          "output_type": "stream",
          "name": "stderr",
          "text": [
            "/usr/local/lib/python3.10/dist-packages/sklearn/metrics/_classification.py:1344: UndefinedMetricWarning: Precision and F-score are ill-defined and being set to 0.0 in labels with no predicted samples. Use `zero_division` parameter to control this behavior.\n",
            "  _warn_prf(average, modifier, msg_start, len(result))\n",
            "/usr/local/lib/python3.10/dist-packages/sklearn/metrics/_classification.py:1344: UndefinedMetricWarning: Precision and F-score are ill-defined and being set to 0.0 in labels with no predicted samples. Use `zero_division` parameter to control this behavior.\n",
            "  _warn_prf(average, modifier, msg_start, len(result))\n",
            "/usr/local/lib/python3.10/dist-packages/sklearn/metrics/_classification.py:1344: UndefinedMetricWarning: Precision and F-score are ill-defined and being set to 0.0 in labels with no predicted samples. Use `zero_division` parameter to control this behavior.\n",
            "  _warn_prf(average, modifier, msg_start, len(result))\n"
          ]
        },
        {
          "output_type": "display_data",
          "data": {
            "text/plain": [
              "<Figure size 800x600 with 2 Axes>"
            ],
            "image/png": "[encoded data removed]"
          },
          "metadata": {}
        }
      ]
    },
    {
      "cell_type": "code",
      "source": [
        "import numpy as np\n",
        "from scipy.spatial.distance import cdist\n",
        "\n",
        "class RBFNetwork:\n",
        "    def __init__(self, num_centers, learning_rate=0.1, num_epochs=100):\n",
        "        self.num_centers = num_centers\n",
        "        self.learning_rate = learning_rate\n",
        "        self.num_epochs = num_epochs\n",
        "        self.centers = None\n",
        "        self.weights = None\n",
        "        self.beta = None\n",
        "\n",
        "    def radial_basis_function(self, x, center, beta):\n",
        "        return np.exp(-beta * np.linalg.norm(x - center) ** 2)\n",
        "\n",
        "    def fit(self, X, y):\n",
        "        # Randomly initialize centers\n",
        "        self.centers = X[np.random.choice(X.shape[0], self.num_centers, replace=False)]\n",
        "\n",
        "        # Calculate spread parameter beta\n",
        "        distances = cdist(X, self.centers)\n",
        "        self.beta = 1 / (2 * np.mean(np.var(distances, axis=1)))\n",
        "\n",
        "        # Calculate RBF activations\n",
        "        phi = np.array([self.radial_basis_function(x, center, self.beta) for x in X for center in self.centers])\n",
        "        phi = phi.reshape(X.shape[0], self.num_centers)\n",
        "\n",
        "        # Add bias term to the input data\n",
        "        phi = np.insert(phi, 0, 1, axis=1)  # Bias term\n",
        "\n",
        "        # Initialize weights\n",
        "        self.weights = np.random.randn(phi.shape[1])\n",
        "\n",
        "        # Training using gradient descent\n",
        "        for _ in range(self.num_epochs):\n",
        "            for i in range(X.shape[0]):\n",
        "                output = np.dot(phi[i], self.weights)\n",
        "                error = y[i] - output\n",
        "                self.weights += self.learning_rate * error * phi[i]\n",
        "\n",
        "    def predict(self, X):\n",
        "        # Calculate RBF activations for test data\n",
        "        phi = np.array([self.radial_basis_function(x, center, self.beta) for x in X for center in self.centers])\n",
        "        phi = phi.reshape(X.shape[0], self.num_centers)\n",
        "\n",
        "        # Add bias term to the input data\n",
        "        phi = np.insert(phi, 0, 1, axis=1)  # Bias term\n",
        "\n",
        "        # Make predictions\n",
        "        predictions = np.dot(phi, self.weights)\n",
        "        return predictions\n"
      ],
      "metadata": {
        "id": "rObwrT8T9CpB"
      },
      "execution_count": null,
      "outputs": []
    },
    {
      "cell_type": "code",
      "source": [
        "rbf = RBFNetwork(num_centers=10, learning_rate=0.01, num_epochs=1000)\n",
        "rbf.fit(x_train, y_train)"
      ],
      "metadata": {
        "id": "WaBZuA7n9Csb"
      },
      "execution_count": null,
      "outputs": []
    },
    {
      "cell_type": "code",
      "source": [
        "predictions = rbf.predict(x_test)\n",
        "\n",
        "mse = np.mean((predictions - y_test) ** 2)\n",
        "print(\"Mean Squared Error:\", mse)"
      ],
      "metadata": {
        "colab": {
          "base_uri": "https://localhost:8080/"
        },
        "id": "J1Mx3zdG_PLY",
        "outputId": "b2dc546a-e50d-4de9-8ee4-8bab4745cf97"
      },
      "execution_count": null,
      "outputs": [
        {
          "output_type": "stream",
          "name": "stdout",
          "text": [
            "Mean Squared Error: 0.035046537910832905\n"
          ]
        }
      ]
    }
  ]
}