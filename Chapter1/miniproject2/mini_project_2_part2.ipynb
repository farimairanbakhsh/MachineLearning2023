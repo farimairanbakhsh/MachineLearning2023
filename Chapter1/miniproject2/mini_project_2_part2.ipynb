{
  "nbformat": 4,
  "nbformat_minor": 0,
  "metadata": {
    "colab": {
      "provenance": [],
      "authorship_tag": "ABX9TyMmDbzpBzn8ZL03HyalDuLf",
      "include_colab_link": true
    },
    "kernelspec": {
      "name": "python3",
      "display_name": "Python 3"
    },
    "language_info": {
      "name": "python"
    }
  },
  "cells": [
    {
      "cell_type": "markdown",
      "metadata": {
        "id": "view-in-github",
        "colab_type": "text"
      },
      "source": [
        "<a href=\"https://colab.research.google.com/github/farimairanbakhsh/MachineLearning2023/blob/main/Chapter1/miniproject2/mini_project_2_part2.ipynb\" target=\"_parent\"><img src=\"https://colab.research.google.com/assets/colab-badge.svg\" alt=\"Open In Colab\"/></a>"
      ]
    },
    {
      "cell_type": "code",
      "execution_count": null,
      "metadata": {
        "id": "PmsA1J8uwRbO"
      },
      "outputs": [],
      "source": [
        "import numpy as np\n",
        "import itertools"
      ]
    },
    {
      "cell_type": "code",
      "source": [
        "#define muculloch pitts\n",
        "class McCulloch_Pitts_neuron():\n",
        "\n",
        "  def __init__(self , weights , threshold):\n",
        "    self.weights = weights    #define weights\n",
        "    self.threshold = threshold    #define threshold\n",
        "\n",
        "  def model(self , x):\n",
        "    #define model with threshold\n",
        "    if self.weights @ x >= self.threshold:\n",
        "        return 1\n",
        "    else:\n",
        "        return 0"
      ],
      "metadata": {
        "id": "J69iBHPCwXHR"
      },
      "execution_count": null,
      "outputs": []
    },
    {
      "cell_type": "code",
      "source": [
        "def y0(input):\n",
        "\n",
        "  neur5 = McCulloch_Pitts_neuron([1,1],1.5)\n",
        "\n",
        "  z5 = neur5.model(np.array([input[1],input[3]]))\n",
        "\n",
        "  # 3 bit output\n",
        "  # return str(z1) + str(z2)\n",
        "  return list([z5])"
      ],
      "metadata": {
        "id": "JwHWPyI_vdgw"
      },
      "execution_count": null,
      "outputs": []
    },
    {
      "cell_type": "code",
      "source": [
        "import itertools\n",
        "# inputs\n",
        "\n",
        "input = [0,1]\n",
        "\n",
        "X = list(itertools.product(input, input, input, input))\n",
        "\n",
        "for i in X:\n",
        "    res = y0(i)\n",
        "    print(\"y0 with input as\", str(i[0]) + str(\" \")+str(i[1])+ str(\" \")+str(i[2])+ str(\" \")+str(i[3]), \"goes to output \", str(res[0]))"
      ],
      "metadata": {
        "id": "1WQBgTRWwXKB",
        "colab": {
          "base_uri": "https://localhost:8080/"
        },
        "outputId": "a16ea167-2cb9-444c-9423-bb16726c19fb"
      },
      "execution_count": null,
      "outputs": [
        {
          "output_type": "stream",
          "name": "stdout",
          "text": [
            "y0 with input as 0 0 0 0 goes to output  0\n",
            "y0 with input as 0 0 0 1 goes to output  0\n",
            "y0 with input as 0 0 1 0 goes to output  0\n",
            "y0 with input as 0 0 1 1 goes to output  0\n",
            "y0 with input as 0 1 0 0 goes to output  0\n",
            "y0 with input as 0 1 0 1 goes to output  1\n",
            "y0 with input as 0 1 1 0 goes to output  0\n",
            "y0 with input as 0 1 1 1 goes to output  1\n",
            "y0 with input as 1 0 0 0 goes to output  0\n",
            "y0 with input as 1 0 0 1 goes to output  0\n",
            "y0 with input as 1 0 1 0 goes to output  0\n",
            "y0 with input as 1 0 1 1 goes to output  0\n",
            "y0 with input as 1 1 0 0 goes to output  0\n",
            "y0 with input as 1 1 0 1 goes to output  1\n",
            "y0 with input as 1 1 1 0 goes to output  0\n",
            "y0 with input as 1 1 1 1 goes to output  1\n"
          ]
        }
      ]
    },
    {
      "cell_type": "code",
      "source": [
        "def y1(input):\n",
        "\n",
        "  neur1 = McCulloch_Pitts_neuron([1,-1, 0,1], 1.5)\n",
        "  neur2 = McCulloch_Pitts_neuron([1,0, -1,1], 1.5)\n",
        "  neur3 = McCulloch_Pitts_neuron([0,1,1,-1], 1.5)\n",
        "  neur4 = McCulloch_Pitts_neuron([-1,1,1,0], 1.5)\n",
        "  neur5 = McCulloch_Pitts_neuron([1,1,1,1], 0.5)\n",
        "\n",
        "  z1 = neur1.model(np.array([input[0], input[1],input[2],input[3]]))\n",
        "  z2 = neur2.model(np.array([input[0], input[1],input[2],input[3]]))\n",
        "  z3 = neur3.model(np.array([input[0], input[1],input[2],input[3]]))\n",
        "  z4 = neur4.model(np.array([input[0], input[1],input[2],input[3]]))\n",
        "  z5 = neur5.model(np.array([z1,z2,z3,z4]))\n",
        "  # 3 bit output\n",
        "  # return str(z1) + str(z2)\n",
        "  return list([z5])"
      ],
      "metadata": {
        "id": "8-voFiZJwXMg"
      },
      "execution_count": null,
      "outputs": []
    },
    {
      "cell_type": "code",
      "source": [
        "import itertools\n",
        "# inputs\n",
        "\n",
        "input = [0,1]\n",
        "\n",
        "X = list(itertools.product(input, input, input, input))\n",
        "\n",
        "for i in X:\n",
        "    res = y1(i)\n",
        "    print(\"y1 with input as\", str(i[0]) + str(\" \")+str(i[1])+ str(\" \")+str(i[2])+ str(\" \")+str(i[3]), \"goes to output \", str(res[0]))"
      ],
      "metadata": {
        "id": "8Dh7CrVHwKS2",
        "colab": {
          "base_uri": "https://localhost:8080/"
        },
        "outputId": "9d035c8f-8edb-432e-a0f0-161706918480"
      },
      "execution_count": null,
      "outputs": [
        {
          "output_type": "stream",
          "name": "stdout",
          "text": [
            "y1 with input as 0 0 0 0 goes to output  0\n",
            "y1 with input as 0 0 0 1 goes to output  0\n",
            "y1 with input as 0 0 1 0 goes to output  0\n",
            "y1 with input as 0 0 1 1 goes to output  0\n",
            "y1 with input as 0 1 0 0 goes to output  0\n",
            "y1 with input as 0 1 0 1 goes to output  0\n",
            "y1 with input as 0 1 1 0 goes to output  1\n",
            "y1 with input as 0 1 1 1 goes to output  1\n",
            "y1 with input as 1 0 0 0 goes to output  0\n",
            "y1 with input as 1 0 0 1 goes to output  1\n",
            "y1 with input as 1 0 1 0 goes to output  0\n",
            "y1 with input as 1 0 1 1 goes to output  1\n",
            "y1 with input as 1 1 0 0 goes to output  0\n",
            "y1 with input as 1 1 0 1 goes to output  1\n",
            "y1 with input as 1 1 1 0 goes to output  1\n",
            "y1 with input as 1 1 1 1 goes to output  0\n"
          ]
        }
      ]
    },
    {
      "cell_type": "code",
      "source": [
        "def y2(input):\n",
        "\n",
        "  neur1 = McCulloch_Pitts_neuron([1,0,1,-1], 1.5)\n",
        "  neur2 = McCulloch_Pitts_neuron([1,-1,1,0], 1.5)\n",
        "  neur3 = McCulloch_Pitts_neuron([1,1], 0.5)\n",
        "\n",
        "  z1 = neur1.model(np.array([input[0], input[1],input[2],input[3]]))\n",
        "  z2 = neur2.model(np.array([input[0], input[1],input[2],input[3]]))\n",
        "  z3 = neur3.model(np.array([z1,z2]))\n",
        "\n",
        "  # 3 bit output\n",
        "  # return str(z1) + str(z2)\n",
        "  return list([z3])"
      ],
      "metadata": {
        "id": "68N2pIEtwKVk"
      },
      "execution_count": null,
      "outputs": []
    },
    {
      "cell_type": "code",
      "source": [
        "import itertools\n",
        "# inputs\n",
        "\n",
        "input = [0,1]\n",
        "\n",
        "X = list(itertools.product(input, input, input, input))\n",
        "\n",
        "for i in X:\n",
        "    res = y2(i)\n",
        "    print(\"y2 with input as\", str(i[0]) + str(\" \")+str(i[1])+ str(\" \")+str(i[2])+ str(\" \")+str(i[3]), \"goes to output \", str(res[0]))"
      ],
      "metadata": {
        "id": "xW2WHCuTwKYY",
        "colab": {
          "base_uri": "https://localhost:8080/"
        },
        "outputId": "622055be-79f0-4ec5-ed88-9bf04b2ae522"
      },
      "execution_count": null,
      "outputs": [
        {
          "output_type": "stream",
          "name": "stdout",
          "text": [
            "y2 with input as 0 0 0 0 goes to output  0\n",
            "y2 with input as 0 0 0 1 goes to output  0\n",
            "y2 with input as 0 0 1 0 goes to output  0\n",
            "y2 with input as 0 0 1 1 goes to output  0\n",
            "y2 with input as 0 1 0 0 goes to output  0\n",
            "y2 with input as 0 1 0 1 goes to output  0\n",
            "y2 with input as 0 1 1 0 goes to output  0\n",
            "y2 with input as 0 1 1 1 goes to output  0\n",
            "y2 with input as 1 0 0 0 goes to output  0\n",
            "y2 with input as 1 0 0 1 goes to output  0\n",
            "y2 with input as 1 0 1 0 goes to output  1\n",
            "y2 with input as 1 0 1 1 goes to output  1\n",
            "y2 with input as 1 1 0 0 goes to output  0\n",
            "y2 with input as 1 1 0 1 goes to output  0\n",
            "y2 with input as 1 1 1 0 goes to output  1\n",
            "y2 with input as 1 1 1 1 goes to output  0\n"
          ]
        }
      ]
    },
    {
      "cell_type": "code",
      "source": [
        "def y3(input):\n",
        "\n",
        "  neur1 = McCulloch_Pitts_neuron([1,1,1,1], 3.5)\n",
        "\n",
        "  z1 = neur1.model(np.array([input[0], input[1],input[2],input[3]]))\n",
        "\n",
        "\n",
        "  # 3 bit output\n",
        "  # return str(z1) + str(z2)\n",
        "  return list([z1])"
      ],
      "metadata": {
        "id": "iE4h7ZExwKbI"
      },
      "execution_count": null,
      "outputs": []
    },
    {
      "cell_type": "code",
      "source": [
        "import itertools\n",
        "# inputs\n",
        "\n",
        "input = [0,1]\n",
        "\n",
        "X = list(itertools.product(input, input, input, input))\n",
        "\n",
        "for i in X:\n",
        "    res = y3(i)\n",
        "    print(\"y3 with input as\", str(i[0]) + str(\" \")+str(i[1])+ str(\" \")+str(i[2])+ str(\" \")+str(i[3]), \"goes to output \", str(res[0]))"
      ],
      "metadata": {
        "id": "-8pq7LNtwKeB",
        "colab": {
          "base_uri": "https://localhost:8080/"
        },
        "outputId": "8db2b3cc-ff6a-45e0-b937-82beb60b37a1"
      },
      "execution_count": null,
      "outputs": [
        {
          "output_type": "stream",
          "name": "stdout",
          "text": [
            "y3 with input as 0 0 0 0 goes to output  0\n",
            "y3 with input as 0 0 0 1 goes to output  0\n",
            "y3 with input as 0 0 1 0 goes to output  0\n",
            "y3 with input as 0 0 1 1 goes to output  0\n",
            "y3 with input as 0 1 0 0 goes to output  0\n",
            "y3 with input as 0 1 0 1 goes to output  0\n",
            "y3 with input as 0 1 1 0 goes to output  0\n",
            "y3 with input as 0 1 1 1 goes to output  0\n",
            "y3 with input as 1 0 0 0 goes to output  0\n",
            "y3 with input as 1 0 0 1 goes to output  0\n",
            "y3 with input as 1 0 1 0 goes to output  0\n",
            "y3 with input as 1 0 1 1 goes to output  0\n",
            "y3 with input as 1 1 0 0 goes to output  0\n",
            "y3 with input as 1 1 0 1 goes to output  0\n",
            "y3 with input as 1 1 1 0 goes to output  0\n",
            "y3 with input as 1 1 1 1 goes to output  1\n"
          ]
        }
      ]
    }
  ]
}